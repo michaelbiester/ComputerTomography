{
 "cells": [
  {
   "cell_type": "code",
   "execution_count": 97,
   "id": "fd0c4c3a-2501-4b94-b109-8c04075dba32",
   "metadata": {},
   "outputs": [],
   "source": [
    "%matplotlib inline\n",
    "import numpy as np\n",
    "import matplotlib.pyplot as plt\n",
    "import os\n",
    "import cv2\n",
    "\n",
    "img_dir = './images'"
   ]
  },
  {
   "cell_type": "markdown",
   "id": "ae2f1b97-394c-4e1a-807e-2ca8608b4db3",
   "metadata": {},
   "source": [
    "## Test Images\n",
    "\n",
    "Number of pixels in $x$ and $y$ direction: $N_x=1800$ , $N_y=1000$\n",
    "\n",
    "\n",
    "\n"
   ]
  },
  {
   "cell_type": "code",
   "execution_count": 98,
   "id": "b0315c9e-517c-4e36-9652-885ae5f41909",
   "metadata": {},
   "outputs": [
    {
     "data": {
      "text/plain": [
       "(1000, 1800)"
      ]
     },
     "execution_count": 98,
     "metadata": {},
     "output_type": "execute_result"
    }
   ],
   "source": [
    "N_row = 1000\n",
    "N_col = 1800\n",
    "\n",
    "img = np.zeros(shape=(N_row, N_col), dtype=np.float64)\n",
    "img.shape"
   ]
  },
  {
   "cell_type": "markdown",
   "id": "1a2d31e9-7980-4777-9d5a-479727a9ebdc",
   "metadata": {},
   "source": [
    "## Adding shapes\n",
    "\n",
    "To the empty image (all entries equal zero) some rectangular shapes at different locations are added. Each rectangle has a weight. The final image is normalized so that the maximum weight is 256 and the minimum is 0.\n",
    "\n"
   ]
  },
  {
   "cell_type": "code",
   "execution_count": 99,
   "id": "9bd4645a-564c-4a7c-8f9a-acd155aa85a6",
   "metadata": {},
   "outputs": [
    {
     "name": "stdout",
     "output_type": "stream",
     "text": [
      "maximum weight (before normalizing to the range [0, 256]): 0.9\n"
     ]
    }
   ],
   "source": [
    "# adding shapes \n",
    "rc_1 = (100, 100)\n",
    "width1 = 120\n",
    "height1 = 200\n",
    "img[rc_1[0]:rc_1[0]+height1, rc_1[1]:rc_1[1]+width1] = img[rc_1[0]:rc_1[0]+height1, rc_1[1]:rc_1[1]+width1]+ 0.3\n",
    "\n",
    "rc_2 = (200, 500)\n",
    "width2 = 220\n",
    "height2 = 300\n",
    "img[rc_2[0]:rc_2[0]+height2, rc_2[1]:rc_2[1]+width2] = img[rc_2[0]:rc_2[0]+height2, rc_2[1]:rc_2[1]+width2] + 0.1\n",
    "\n",
    "rc_3 = (700, 700)\n",
    "width3 = 220\n",
    "height3 = 200\n",
    "img[rc_3[0]:rc_3[0]+height3, rc_3[1]:rc_3[1]+width3] = img[rc_3[0]:rc_3[0]+height3, rc_3[1]:rc_3[1]+width3] + 0.5\n",
    "\n",
    "rc_4 = (500, 600)\n",
    "width4 = 800\n",
    "height4 = 250\n",
    "img[rc_4[0]:rc_4[0]+height4, rc_4[1]:rc_4[1]+width4] = img[rc_4[0]:rc_4[0]+height4, rc_4[1]:rc_4[1]+width4] + 0.4\n",
    "\n",
    "max_img = np.max(img)\n",
    "img_norm = (255 * img) / max_img\n",
    "print(f\"maximum weight (before normalizing to the range [0, 256]): {max_img}\")"
   ]
  },
  {
   "cell_type": "markdown",
   "id": "deeba272-b911-4c85-a36b-139cda7ee086",
   "metadata": {},
   "source": [
    "The image is displayed using a grey-scale colormap. \n",
    "\n",
    "The image is saved in two formats:\n",
    "\n",
    "1) as a numpy array\n",
    "\n",
    "2) as image in *png* format"
   ]
  },
  {
   "cell_type": "code",
   "execution_count": 100,
   "id": "cca212fc-4778-45b3-ad81-a4b9517238db",
   "metadata": {},
   "outputs": [
    {
     "data": {
      "image/png": "[encoded data removed]",
      "text/plain": [
       "<Figure size 800x800 with 1 Axes>"
      ]
     },
     "metadata": {},
     "output_type": "display_data"
    }
   ],
   "source": [
    "fig1 = plt.figure(1, figsize=[8, 8])\n",
    "ax_f1 = fig1.add_subplot(1, 1, 1)\n",
    "\n",
    "ax_f1.imshow(img, cmap='Greys' )\n",
    "ax_f1.grid(True)\n",
    "ax_f1.set_xlabel('x')\n",
    "ax_f1.set_ylabel('y')\n",
    "ax_f1.set_title('test image')\n",
    "\n",
    "# saving for later use ...\n",
    "np.save(os.path.join(img_dir, 'testImgRect1.npy'), img)\n",
    "cv2.imwrite(os.path.join(img_dir, 'testImgRect1.png'), img);"
   ]
  },
  {
   "cell_type": "code",
   "execution_count": null,
   "id": "64307f3c-55a7-4c06-a6a4-898daba251f5",
   "metadata": {},
   "outputs": [],
   "source": []
  }
 ],
 "metadata": {
  "kernelspec": {
   "display_name": "Python 3 (ipykernel)",
   "language": "python",
   "name": "python3"
  },
  "language_info": {
   "codemirror_mode": {
    "name": "ipython",
    "version": 3
   },
   "file_extension": ".py",
   "mimetype": "text/x-python",
   "name": "python",
   "nbconvert_exporter": "python",
   "pygments_lexer": "ipython3",
   "version": "3.11.5"
  }
 },
 "nbformat": 4,
 "nbformat_minor": 5
}
