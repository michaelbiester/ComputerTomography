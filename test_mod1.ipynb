{
 "cells": [
  {
   "cell_type": "code",
   "execution_count": 10,
   "id": "da1c4f4a-1b90-4e0b-b252-25e28f8f1637",
   "metadata": {},
   "outputs": [],
   "source": [
    "from mod1 import mod1Test\n",
    "import sys"
   ]
  },
  {
   "cell_type": "code",
   "execution_count": 11,
   "id": "e7a46d50-08c4-4c3a-a0cc-aef909331f52",
   "metadata": {},
   "outputs": [
    {
     "name": "stdout",
     "output_type": "stream",
     "text": [
      "z: 5\n"
     ]
    },
    {
     "data": {
      "text/plain": [
       "-0.9589242746631385"
      ]
     },
     "execution_count": 11,
     "metadata": {},
     "output_type": "execute_result"
    }
   ],
   "source": [
    "mod1Test(5)"
   ]
  },
  {
   "cell_type": "code",
   "execution_count": 12,
   "id": "096ded89-86aa-4307-991b-3de479578268",
   "metadata": {},
   "outputs": [
    {
     "data": {
      "text/plain": [
       "['C:\\\\Users\\\\micha\\\\iPyNotebooks\\\\iPyNotebooks\\\\ComputerTomography',\n",
       " 'C:\\\\Program Files\\\\Python311\\\\python311.zip',\n",
       " 'C:\\\\Program Files\\\\Python311\\\\DLLs',\n",
       " 'C:\\\\Program Files\\\\Python311\\\\Lib',\n",
       " 'C:\\\\Program Files\\\\Python311',\n",
       " 'C:\\\\Users\\\\micha\\\\PyEnv\\\\py311',\n",
       " '',\n",
       " 'C:\\\\Users\\\\micha\\\\PyEnv\\\\py311\\\\Lib\\\\site-packages',\n",
       " 'C:\\\\Users\\\\micha\\\\PyEnv\\\\py311\\\\Lib\\\\site-packages\\\\win32',\n",
       " 'C:\\\\Users\\\\micha\\\\PyEnv\\\\py311\\\\Lib\\\\site-packages\\\\win32\\\\lib',\n",
       " 'C:\\\\Users\\\\micha\\\\PyEnv\\\\py311\\\\Lib\\\\site-packages\\\\Pythonwin']"
      ]
     },
     "execution_count": 12,
     "metadata": {},
     "output_type": "execute_result"
    }
   ],
   "source": [
    "sys.path"
   ]
  },
  {
   "cell_type": "code",
   "execution_count": null,
   "id": "b4f6fd78-1fa6-4db9-b434-fb11120edbcd",
   "metadata": {},
   "outputs": [],
   "source": []
  }
 ],
 "metadata": {
  "kernelspec": {
   "display_name": "Python 3 (ipykernel)",
   "language": "python",
   "name": "python3"
  },
  "language_info": {
   "codemirror_mode": {
    "name": "ipython",
    "version": 3
   },
   "file_extension": ".py",
   "mimetype": "text/x-python",
   "name": "python",
   "nbconvert_exporter": "python",
   "pygments_lexer": "ipython3",
   "version": "3.11.4"
  }
 },
 "nbformat": 4,
 "nbformat_minor": 5
}
